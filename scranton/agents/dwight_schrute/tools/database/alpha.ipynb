{
 "cells": [
  {
   "cell_type": "code",
   "execution_count": 1,
   "id": "b4a6d54b",
   "metadata": {},
   "outputs": [],
   "source": [
    "from sqlalchemy import inspect\n",
    "\n",
    "from models import Base"
   ]
  },
  {
   "cell_type": "code",
   "execution_count": 2,
   "id": "ededc5e3",
   "metadata": {},
   "outputs": [],
   "source": [
    "# --- Schema Description Utility ---\n",
    "def get_schema_description(base):\n",
    "    \"\"\"\n",
    "    Generates a textual description of the database schema from SQLAlchemy ORM models.\n",
    "    \"\"\"\n",
    "    description = \"Database Schema:\\n\"\n",
    "    mapper_registry = base.registry.mappers\n",
    "    for mapper in mapper_registry:\n",
    "        cls = mapper.class_\n",
    "        table = cls.__table__\n",
    "        description += f\"\\nTable: {table.name}\\n\"\n",
    "        description += f\"  Mapped Class: {cls.__name__}\\n\"\n",
    "        description += \"  Columns:\\n\"\n",
    "        for column in table.columns:\n",
    "            col_type = str(column.type)\n",
    "            constraints = []\n",
    "            if column.primary_key:\n",
    "                constraints.append(\"PRIMARY KEY\")\n",
    "            for fk in column.foreign_keys:\n",
    "                constraints.append(\n",
    "                    f\"REFERENCES {fk.column.table.name}({fk.column.name})\"\n",
    "                )\n",
    "            if not column.nullable and not column.primary_key:\n",
    "                constraints.append(\"NOT NULL\")\n",
    "            if column.unique:\n",
    "                constraints.append(\"UNIQUE\")\n",
    "            description += f\"    - {column.name} ({col_type})\"\n",
    "            if constraints:\n",
    "                description += f\" [{', '.join(constraints)}]\"\n",
    "            description += \"\\n\"\n",
    "        inspector = inspect(cls)\n",
    "        if inspector.relationships:\n",
    "            description += \"  Relationships:\\n\"\n",
    "            for name, rel in inspector.relationships.items():\n",
    "                target = rel.mapper.class_\n",
    "                description += (\n",
    "                    f\"    - {name}: {rel.direction.name} -> {target.__tablename__} \"\n",
    "                    f\"(Class: {target.__name__})\\n\"\n",
    "                )\n",
    "    return description"
   ]
  },
  {
   "cell_type": "code",
   "execution_count": 3,
   "id": "ae228ae4",
   "metadata": {},
   "outputs": [
    {
     "name": "stdout",
     "output_type": "stream",
     "text": [
      "Database Schema:\n",
      "\n",
      "Table: users\n",
      "  Mapped Class: User\n",
      "  Columns:\n",
      "    - id (INTEGER) [PRIMARY KEY]\n",
      "    - username (VARCHAR) [NOT NULL, UNIQUE]\n",
      "    - email (VARCHAR) [NOT NULL, UNIQUE]\n",
      "    - created_at (DATETIME)\n",
      "\n",
      "Table: user_subscriptions\n",
      "  Mapped Class: UserSubscription\n",
      "  Columns:\n",
      "    - id (INTEGER) [PRIMARY KEY]\n",
      "    - user_id (INTEGER) [REFERENCES users(id), NOT NULL]\n",
      "    - subscription_id (INTEGER) [REFERENCES subscriptions(id), NOT NULL]\n",
      "    - start_date (DATETIME)\n",
      "    - end_date (DATETIME)\n",
      "    - status (VARCHAR(9)) [NOT NULL]\n",
      "\n",
      "Table: invoices\n",
      "  Mapped Class: Invoice\n",
      "  Columns:\n",
      "    - id (INTEGER) [PRIMARY KEY]\n",
      "    - user_subscription_id (INTEGER) [REFERENCES user_subscriptions(id), NOT NULL]\n",
      "    - invoice_date (DATETIME) [NOT NULL]\n",
      "    - amount (FLOAT) [NOT NULL]\n",
      "    - status (VARCHAR) [NOT NULL]\n",
      "    - created_at (DATETIME)\n",
      "\n",
      "Table: subscriptions\n",
      "  Mapped Class: Subscription\n",
      "  Columns:\n",
      "    - id (INTEGER) [PRIMARY KEY]\n",
      "    - name (VARCHAR) [NOT NULL, UNIQUE]\n",
      "    - price (FLOAT) [NOT NULL]\n",
      "    - description (VARCHAR)\n",
      "\n"
     ]
    }
   ],
   "source": [
    "print(get_schema_description(Base))"
   ]
  },
  {
   "cell_type": "code",
   "execution_count": null,
   "id": "a876d979",
   "metadata": {},
   "outputs": [],
   "source": []
  }
 ],
 "metadata": {
  "kernelspec": {
   "display_name": "dunder-mifflin-play",
   "language": "python",
   "name": "python3"
  },
  "language_info": {
   "codemirror_mode": {
    "name": "ipython",
    "version": 3
   },
   "file_extension": ".py",
   "mimetype": "text/x-python",
   "name": "python",
   "nbconvert_exporter": "python",
   "pygments_lexer": "ipython3",
   "version": "3.12.8"
  }
 },
 "nbformat": 4,
 "nbformat_minor": 5
}
