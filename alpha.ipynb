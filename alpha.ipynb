{
 "cells": [
  {
   "cell_type": "code",
   "execution_count": null,
   "id": "ead9f4f8",
   "metadata": {},
   "outputs": [],
   "source": [
    "import pandas as pd\n",
    "import numpy as np\n",
    "from datetime import datetime, timezone\n",
    "from dateutil.relativedelta import relativedelta\n",
    "from faker import Faker\n",
    "from sqlalchemy import (\n",
    "    create_engine,\n",
    "    text,\n",
    "    Column,\n",
    "    Integer,\n",
    "    String,\n",
    "    Float,\n",
    "    DateTime,\n",
    "    ForeignKey,\n",
    "    Enum as SQLEnum,\n",
    ")\n",
    "from sqlalchemy.orm import sessionmaker\n",
    "from sqlalchemy.orm import declarative_base\n",
    "import enum\n",
    "import os\n",
    "from dotenv import load_dotenv"
   ]
  },
  {
   "cell_type": "code",
   "execution_count": 5,
   "id": "191dfa41",
   "metadata": {},
   "outputs": [
    {
     "data": {
      "text/plain": [
       "True"
      ]
     },
     "execution_count": 5,
     "metadata": {},
     "output_type": "execute_result"
    }
   ],
   "source": [
    "load_dotenv()"
   ]
  },
  {
   "cell_type": "markdown",
   "id": "d4c1183c",
   "metadata": {},
   "source": [
    "## Applicatio DB setup\n"
   ]
  },
  {
   "cell_type": "code",
   "execution_count": null,
   "id": "96447393",
   "metadata": {},
   "outputs": [],
   "source": [
    "# --- 1) MODEL DEFINITIONS ---\n",
    "Base = declarative_base()\n",
    "\n",
    "\n",
    "class SubscriptionStatus(enum.Enum):\n",
    "    ACTIVE = \"active\"\n",
    "    CANCELLED = \"cancelled\"\n",
    "    EXPIRED = \"expired\"\n",
    "\n",
    "\n",
    "class User(Base):\n",
    "    __tablename__ = \"users\"\n",
    "    id = Column(Integer, primary_key=True, index=True)\n",
    "    username = Column(String, unique=True, index=True, nullable=False)\n",
    "    email = Column(String, unique=True, index=True, nullable=False)\n",
    "    created_at = Column(DateTime, default=datetime.now(timezone.utc))\n",
    "\n",
    "\n",
    "class Subscription(Base):\n",
    "    __tablename__ = \"subscriptions\"\n",
    "    id = Column(Integer, primary_key=True, index=True)\n",
    "    name = Column(String, unique=True, nullable=False)\n",
    "    price = Column(Float, nullable=False)\n",
    "    description = Column(String)\n",
    "\n",
    "\n",
    "class UserSubscription(Base):\n",
    "    __tablename__ = \"user_subscriptions\"\n",
    "    id = Column(Integer, primary_key=True, index=True)\n",
    "    user_id = Column(Integer, ForeignKey(\"users.id\"), nullable=False)\n",
    "    subscription_id = Column(Integer, ForeignKey(\"subscriptions.id\"), nullable=False)\n",
    "    start_date = Column(DateTime, default=datetime.now(timezone.utc))\n",
    "    end_date = Column(DateTime, nullable=True)\n",
    "    status = Column(\n",
    "        SQLEnum(SubscriptionStatus), default=SubscriptionStatus.ACTIVE, nullable=False\n",
    "    )\n",
    "\n",
    "\n",
    "class Invoice(Base):\n",
    "    __tablename__ = \"invoices\"\n",
    "    id = Column(Integer, primary_key=True, index=True)\n",
    "    user_subscription_id = Column(\n",
    "        Integer, ForeignKey(\"user_subscriptions.id\"), nullable=False\n",
    "    )\n",
    "    invoice_date = Column(DateTime, nullable=False)\n",
    "    amount = Column(Float, nullable=False)\n",
    "    status = Column(String, nullable=False, default=\"paid\")\n",
    "    created_at = Column(DateTime, default=datetime.now(timezone.utc))"
   ]
  },
  {
   "cell_type": "code",
   "execution_count": 7,
   "id": "0afee039",
   "metadata": {},
   "outputs": [],
   "source": [
    "# --- 2) DATABASE SETUP ---\n",
    "DATABASE_URL = os.getenv(\"SUBSCRIPTION_DB_URL\", \"sqlite:///./test.db\")\n",
    "engine = create_engine(DATABASE_URL)\n",
    "Session = sessionmaker(bind=engine)\n",
    "session = Session()"
   ]
  },
  {
   "cell_type": "code",
   "execution_count": 8,
   "id": "527b444a",
   "metadata": {},
   "outputs": [],
   "source": [
    "Base.metadata.create_all(engine)"
   ]
  },
  {
   "cell_type": "code",
   "execution_count": null,
   "id": "549e757e",
   "metadata": {},
   "outputs": [],
   "source": [
    "# --- 3) RESET FUNCTION ---\n",
    "def reset_database(sess):\n",
    "    \"\"\"\n",
    "    Truncate all tables to start fresh.\n",
    "    \"\"\"\n",
    "    sess.execute(\n",
    "        text(\"\"\"\n",
    "        TRUNCATE TABLE\n",
    "          invoices,\n",
    "          user_subscriptions,\n",
    "          subscriptions,\n",
    "          users\n",
    "        RESTART IDENTITY CASCADE\n",
    "    \"\"\")\n",
    "    )\n",
    "    sess.commit()"
   ]
  },
  {
   "cell_type": "code",
   "execution_count": 22,
   "id": "2cb62255",
   "metadata": {},
   "outputs": [],
   "source": [
    "# --- 4) SEED FUNCTIONS ---\n",
    "fake = Faker()\n",
    "\n",
    "\n",
    "def seed_users(sess, n_users=50):\n",
    "    users = [\n",
    "        User(username=fake.unique.user_name(), email=fake.unique.email())\n",
    "        for _ in range(n_users)\n",
    "    ]\n",
    "    sess.add_all(users)\n",
    "    sess.commit()\n",
    "    return sess.query(User).all()\n",
    "\n",
    "\n",
    "def seed_subscriptions(sess, plans):\n",
    "    \"\"\"\n",
    "    plans: list of tuples [(name, price, description), ...]\n",
    "    \"\"\"\n",
    "    subs = [\n",
    "        Subscription(name=name, price=price, description=desc)\n",
    "        for name, price, desc in plans\n",
    "    ]\n",
    "    sess.add_all(subs)\n",
    "    sess.commit()\n",
    "    return sess.query(Subscription).all()\n",
    "\n",
    "\n",
    "def seed_user_subscriptions(sess, users, subs, max_per_user=2):\n",
    "    \"\"\"\n",
    "    Randomly assign subscriptions to users.\n",
    "    Each user can have between 1 and max_per_user subscriptions.\n",
    "    \"\"\"\n",
    "    records = []\n",
    "    for user in users:\n",
    "        count = np.random.randint(1, max_per_user + 1)\n",
    "        chosen = np.random.choice(subs, size=count, replace=False)\n",
    "        for plan in chosen:\n",
    "            start = fake.date_between(start_date=\"-2y\", end_date=\"today\")\n",
    "            ended = fake.boolean(chance_of_getting_true=30)\n",
    "            end = (\n",
    "                fake.date_between(start_date=start, end_date=\"today\") if ended else None\n",
    "            )\n",
    "            status = SubscriptionStatus.EXPIRED if ended else SubscriptionStatus.ACTIVE\n",
    "            records.append(\n",
    "                UserSubscription(\n",
    "                    user_id=user.id,\n",
    "                    subscription_id=plan.id,\n",
    "                    start_date=start,\n",
    "                    end_date=end,\n",
    "                    status=status,\n",
    "                )\n",
    "            )\n",
    "    sess.add_all(records)\n",
    "    sess.commit()\n",
    "    return sess.query(UserSubscription).all()"
   ]
  },
  {
   "cell_type": "code",
   "execution_count": 23,
   "id": "e2ab3877",
   "metadata": {},
   "outputs": [],
   "source": [
    "# --- 5) INVOICE GENERATION ---\n",
    "def generate_invoices_df(\n",
    "    engine, unpaid_pct=0.05, months_before=24, months_after=0, seed=42\n",
    "):\n",
    "    \"\"\"\n",
    "    Generate a DataFrame of invoices based on user subscriptions.\n",
    "    Parameters:\n",
    "    - engine: SQLAlchemy engine connected to the database.\n",
    "    - unpaid_pct: Percentage of invoices that are unpaid.\n",
    "    - months_before: How many months before today to consider for billing.\n",
    "    - months_after: How many months after today to consider for billing.\n",
    "    - seed: Random seed for reproducibility.\n",
    "    Returns:\n",
    "    - DataFrame with columns: user_subscription_id, invoice_date, amount, status.\n",
    "    \"\"\"\n",
    "\n",
    "    np.random.seed(seed)\n",
    "    df = pd.read_sql(\n",
    "        \"\"\"\n",
    "        SELECT us.id AS user_subscription_id,\n",
    "               us.start_date, us.end_date, s.price\n",
    "        FROM user_subscriptions us\n",
    "        JOIN subscriptions s ON us.subscription_id = s.id\n",
    "    \"\"\",\n",
    "        engine,\n",
    "    )\n",
    "    today = datetime.utcnow().date()\n",
    "    invoices = []\n",
    "    for _, row in df.iterrows():\n",
    "        start = pd.to_datetime(row.start_date).date()\n",
    "        end = (\n",
    "            pd.to_datetime(row.end_date).date()\n",
    "            if pd.notnull(row.end_date)\n",
    "            else today + relativedelta(years=1)\n",
    "        )\n",
    "        win_start = today - relativedelta(months=months_before)\n",
    "        win_end = today + relativedelta(months=months_after)\n",
    "        bill_start = max(start, win_start)\n",
    "        bill_end = min(end, win_end)\n",
    "        for inv_date in pd.date_range(bill_start.replace(day=1), bill_end, freq=\"MS\"):\n",
    "            status = \"unpaid\" if np.random.rand() < unpaid_pct else \"paid\"\n",
    "            invoices.append(\n",
    "                {\n",
    "                    \"user_subscription_id\": row.user_subscription_id,\n",
    "                    \"invoice_date\": inv_date,\n",
    "                    \"amount\": row.price,\n",
    "                    \"status\": status,\n",
    "                }\n",
    "            )\n",
    "    return pd.DataFrame(invoices)"
   ]
  },
  {
   "cell_type": "code",
   "execution_count": 24,
   "id": "b7d13dcb",
   "metadata": {},
   "outputs": [],
   "source": [
    "# --- 6) ORCHESTRATOR ---\n",
    "def full_reset_and_seed(n_users, plan_list, max_subs_per_user=2):\n",
    "    \"\"\"\n",
    "    1) Clears all demo data\n",
    "    2) Seeds users, subscriptions, user_subscriptions\n",
    "    3) Generates & pushes invoices\n",
    "    \"\"\"\n",
    "    # 1. Reset\n",
    "    reset_database(session)\n",
    "\n",
    "    # 2. Seed core tables\n",
    "    users = seed_users(session, n_users)\n",
    "    subs = seed_subscriptions(session, plan_list)\n",
    "    _ = seed_user_subscriptions(session, users, subs, max_subs_per_user)\n",
    "\n",
    "    # 3. Build & insert invoices\n",
    "    invoices_df = generate_invoices_df(engine)\n",
    "    invoices_df.to_sql(\"invoices\", engine, if_exists=\"append\", index=False)\n",
    "\n",
    "    print(\n",
    "        f\"Seed complete: {n_users} users, \"\n",
    "        f\"{len(subs)} plans, \"\n",
    "        f\"{len(users) * max_subs_per_user} user_subscriptions, \"\n",
    "        f\"{len(invoices_df)} invoices \"\n",
    "        f\"({invoices_df.status.eq('unpaid').mean():.1%} unpaid).\"\n",
    "    )"
   ]
  },
  {
   "cell_type": "code",
   "execution_count": 25,
   "id": "ea159fef",
   "metadata": {},
   "outputs": [],
   "source": [
    "plans = [\n",
    "    (\"Basic SD\", 5.99, \"Standard Definition streaming, 1 screen\"),\n",
    "    (\"Standard HD\", 9.99, \"High Definition streaming, 2 screens\"),\n",
    "    (\"Premium 4K\", 15.99, \"Ultra HD/4K streaming, 4 screens\"),\n",
    "    (\"Family Plan\", 19.99, \"Family plan with multiple profiles\"),\n",
    "    (\"Annual Plan\", 99.99, \"Annual subscription with a discount\"),\n",
    "]"
   ]
  },
  {
   "cell_type": "code",
   "execution_count": 26,
   "id": "6e5b46db",
   "metadata": {},
   "outputs": [
    {
     "name": "stderr",
     "output_type": "stream",
     "text": [
      "/var/folders/d0/vt1dssys28dd4j2wlygf9rbr0000gn/T/ipykernel_31301/1932753658.py:27: DeprecationWarning: datetime.datetime.utcnow() is deprecated and scheduled for removal in a future version. Use timezone-aware objects to represent datetimes in UTC: datetime.datetime.now(datetime.UTC).\n",
      "  today = datetime.utcnow().date()\n"
     ]
    },
    {
     "name": "stdout",
     "output_type": "stream",
     "text": [
      "Seed complete: 625 users, 5 plans, 1875 user_subscriptions, 13329 invoices (5.0% unpaid).\n"
     ]
    }
   ],
   "source": [
    "full_reset_and_seed(n_users=625, plan_list=plans, max_subs_per_user=3)"
   ]
  },
  {
   "cell_type": "code",
   "execution_count": null,
   "id": "1fe2197a",
   "metadata": {},
   "outputs": [],
   "source": []
  }
 ],
 "metadata": {
  "kernelspec": {
   "display_name": "dunder-mifflin-play",
   "language": "python",
   "name": "python3"
  },
  "language_info": {
   "codemirror_mode": {
    "name": "ipython",
    "version": 3
   },
   "file_extension": ".py",
   "mimetype": "text/x-python",
   "name": "python",
   "nbconvert_exporter": "python",
   "pygments_lexer": "ipython3",
   "version": "3.12.8"
  }
 },
 "nbformat": 4,
 "nbformat_minor": 5
}
